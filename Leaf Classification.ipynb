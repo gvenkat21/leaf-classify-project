{
 "cells": [
  {
   "cell_type": "code",
   "execution_count": 2,
   "metadata": {
    "collapsed": true
   },
   "outputs": [],
   "source": [
    "import numpy as np\n",
    "import pandas as pd\n",
    "\n",
    "train = pd.read_csv('train.csv')\n",
    "test = pd.read_csv('test.csv')"
   ]
  },
  {
   "cell_type": "markdown",
   "metadata": {},
   "source": [
    "# Data Preparation"
   ]
  },
  {
   "cell_type": "code",
   "execution_count": 3,
   "metadata": {
    "collapsed": false
   },
   "outputs": [
    {
     "data": {
      "text/html": [
       "<div>\n",
       "<table border=\"1\" class=\"dataframe\">\n",
       "  <thead>\n",
       "    <tr style=\"text-align: right;\">\n",
       "      <th></th>\n",
       "      <th>margin1</th>\n",
       "      <th>margin2</th>\n",
       "      <th>margin3</th>\n",
       "      <th>margin4</th>\n",
       "      <th>margin5</th>\n",
       "      <th>margin6</th>\n",
       "      <th>margin7</th>\n",
       "      <th>margin8</th>\n",
       "      <th>margin9</th>\n",
       "      <th>margin10</th>\n",
       "      <th>...</th>\n",
       "      <th>texture55</th>\n",
       "      <th>texture56</th>\n",
       "      <th>texture57</th>\n",
       "      <th>texture58</th>\n",
       "      <th>texture59</th>\n",
       "      <th>texture60</th>\n",
       "      <th>texture61</th>\n",
       "      <th>texture62</th>\n",
       "      <th>texture63</th>\n",
       "      <th>texture64</th>\n",
       "    </tr>\n",
       "  </thead>\n",
       "  <tbody>\n",
       "    <tr>\n",
       "      <th>0</th>\n",
       "      <td>0.007812</td>\n",
       "      <td>0.023438</td>\n",
       "      <td>0.023438</td>\n",
       "      <td>0.003906</td>\n",
       "      <td>0.011719</td>\n",
       "      <td>0.009766</td>\n",
       "      <td>0.027344</td>\n",
       "      <td>0.0</td>\n",
       "      <td>0.001953</td>\n",
       "      <td>0.033203</td>\n",
       "      <td>...</td>\n",
       "      <td>0.007812</td>\n",
       "      <td>0.0</td>\n",
       "      <td>0.00293</td>\n",
       "      <td>0.00293</td>\n",
       "      <td>0.035156</td>\n",
       "      <td>0.0</td>\n",
       "      <td>0.0</td>\n",
       "      <td>0.004883</td>\n",
       "      <td>0.0</td>\n",
       "      <td>0.025391</td>\n",
       "    </tr>\n",
       "  </tbody>\n",
       "</table>\n",
       "<p>1 rows × 192 columns</p>\n",
       "</div>"
      ],
      "text/plain": [
       "    margin1   margin2   margin3   margin4   margin5   margin6   margin7  \\\n",
       "0  0.007812  0.023438  0.023438  0.003906  0.011719  0.009766  0.027344   \n",
       "\n",
       "   margin8   margin9  margin10    ...      texture55  texture56  texture57  \\\n",
       "0      0.0  0.001953  0.033203    ...       0.007812        0.0    0.00293   \n",
       "\n",
       "   texture58  texture59  texture60  texture61  texture62  texture63  texture64  \n",
       "0    0.00293   0.035156        0.0        0.0   0.004883        0.0   0.025391  \n",
       "\n",
       "[1 rows x 192 columns]"
      ]
     },
     "execution_count": 3,
     "metadata": {},
     "output_type": "execute_result"
    }
   ],
   "source": [
    "from sklearn.preprocessing import LabelEncoder\n",
    "\n",
    "def encode(train, test):\n",
    "    le = LabelEncoder().fit(train.species)\n",
    "    labels = le.transform(train.species)\n",
    "    classes = list(le.classes_)\n",
    "    test_ids = test.id\n",
    "    \n",
    "    train = train.drop(['species', 'id'], axis=1)  \n",
    "    test = test.drop(['id'], axis=1)\n",
    "    \n",
    "    return train, labels, test, test_ids, classes\n",
    "\n",
    "train, labels, test, test_ids, classes = encode(train, test)\n",
    "train.head(1)"
   ]
  },
  {
   "cell_type": "code",
   "execution_count": 4,
   "metadata": {
    "collapsed": false
   },
   "outputs": [],
   "source": [
    "from sklearn.cross_validation import StratifiedShuffleSplit\n",
    "sss = StratifiedShuffleSplit(labels, n_iter=7, test_size=0.2, random_state=6)"
   ]
  },
  {
   "cell_type": "code",
   "execution_count": 5,
   "metadata": {
    "collapsed": true
   },
   "outputs": [],
   "source": [
    "for train_index, test_index in sss:\n",
    "    X_train, X_test = train.values[train_index], train.values[test_index]\n",
    "    y_train, y_test = labels[train_index], labels[test_index]"
   ]
  },
  {
   "cell_type": "markdown",
   "metadata": {},
   "source": [
    "# Classifier"
   ]
  },
  {
   "cell_type": "code",
   "execution_count": 6,
   "metadata": {
    "collapsed": false
   },
   "outputs": [
    {
     "name": "stdout",
     "output_type": "stream",
     "text": [
      "0.852995542645\n"
     ]
    },
    {
     "name": "stderr",
     "output_type": "stream",
     "text": [
      "C:\\Users\\gvenk\\Anaconda2\\lib\\site-packages\\sklearn\\discriminant_analysis.py:453: UserWarning: The priors do not sum to 1. Renormalizing\n",
      "  UserWarning)\n",
      "C:\\Users\\gvenk\\Anaconda2\\lib\\site-packages\\sklearn\\discriminant_analysis.py:387: UserWarning: Variables are collinear.\n",
      "  warnings.warn(\"Variables are collinear.\")\n"
     ]
    }
   ],
   "source": [
    "from sklearn.metrics import log_loss\n",
    "from sklearn.discriminant_analysis import LinearDiscriminantAnalysis\n",
    "\n",
    "lda = LinearDiscriminantAnalysis()\n",
    "lda.fit(X_train, y_train)\n",
    "test_predictions = lda.predict_proba(X_test)\n",
    "logl = log_loss(y_test, test_predictions)\n",
    "print(logl)"
   ]
  },
  {
   "cell_type": "markdown",
   "metadata": {},
   "source": [
    "### Performing classification on actual test set"
   ]
  },
  {
   "cell_type": "code",
   "execution_count": 7,
   "metadata": {
    "collapsed": false
   },
   "outputs": [],
   "source": [
    "lda = LinearDiscriminantAnalysis()\n",
    "lda.fit(X_train, y_train)\n",
    "test_predictions = lda.predict_proba(test)"
   ]
  },
  {
   "cell_type": "code",
   "execution_count": 8,
   "metadata": {
    "collapsed": false
   },
   "outputs": [
    {
     "ename": "NameError",
     "evalue": "name 'test_predictions5' is not defined",
     "output_type": "error",
     "traceback": [
      "\u001b[0;31m---------------------------------------------------------------------------\u001b[0m",
      "\u001b[0;31mNameError\u001b[0m                                 Traceback (most recent call last)",
      "\u001b[0;32m<ipython-input-8-f0b6ef7513ca>\u001b[0m in \u001b[0;36m<module>\u001b[0;34m()\u001b[0m\n\u001b[0;32m----> 1\u001b[0;31m \u001b[0mtest_predictions5\u001b[0m \u001b[1;33m<\u001b[0m\u001b[1;33m-\u001b[0m \u001b[0mtest_predictions\u001b[0m\u001b[1;33m^\u001b[0m\u001b[1;36m5\u001b[0m\u001b[1;33m\u001b[0m\u001b[0m\n\u001b[0m\u001b[1;32m      2\u001b[0m \u001b[0mtest_predictions5\u001b[0m\u001b[1;33m\u001b[0m\u001b[0m\n",
      "\u001b[0;31mNameError\u001b[0m: name 'test_predictions5' is not defined"
     ]
    }
   ],
   "source": [
    "test_predictions5 <- test_predictions^5\n",
    "test_predictions5"
   ]
  },
  {
   "cell_type": "code",
   "execution_count": 10,
   "metadata": {
    "collapsed": false
   },
   "outputs": [
    {
     "data": {
      "text/plain": [
       "array([[  5.13544189e-067,   3.40952802e-130,   7.39558872e-123, ...,\n",
       "          2.87499563e-069,   6.26226255e-085,   7.90201201e-100],\n",
       "       [  4.69989929e-080,   6.55085288e-153,   1.79700738e-109, ...,\n",
       "          5.54485806e-040,   1.64195156e-130,   7.99029365e-055],\n",
       "       [  5.86450917e-044,   2.46794889e-001,   1.52007800e-088, ...,\n",
       "          1.83444741e-072,   5.84384609e-157,   2.23345117e-018],\n",
       "       ..., \n",
       "       [  1.24685287e-054,   2.24685575e-127,   2.03691783e-112, ...,\n",
       "          1.33837190e-056,   4.21079923e-114,   7.29252802e-057],\n",
       "       [  3.12572568e-074,   4.69090887e-133,   7.52191619e-071, ...,\n",
       "          4.91058637e-032,   6.28179146e-130,   7.85068321e-083],\n",
       "       [  7.44730125e-097,   4.55628658e-130,   2.43111978e-085, ...,\n",
       "          1.70794330e-022,   4.20528081e-147,   3.49949212e-056]])"
      ]
     },
     "execution_count": 10,
     "metadata": {},
     "output_type": "execute_result"
    }
   ],
   "source": [
    "test_predictions"
   ]
  },
  {
   "cell_type": "markdown",
   "metadata": {},
   "source": [
    "# Submission"
   ]
  },
  {
   "cell_type": "code",
   "execution_count": 176,
   "metadata": {
    "collapsed": true
   },
   "outputs": [],
   "source": [
    "submission = pd.DataFrame(test_predictions, columns=classes)"
   ]
  },
  {
   "cell_type": "code",
   "execution_count": 177,
   "metadata": {
    "collapsed": true
   },
   "outputs": [
    {
     "data": {
      "text/html": [
       "<div>\n",
       "<table border=\"1\" class=\"dataframe\">\n",
       "  <thead>\n",
       "    <tr style=\"text-align: right;\">\n",
       "      <th></th>\n",
       "      <th>id</th>\n",
       "      <th>Acer_Capillipes</th>\n",
       "      <th>Acer_Circinatum</th>\n",
       "      <th>Acer_Mono</th>\n",
       "      <th>Acer_Opalus</th>\n",
       "      <th>Acer_Palmatum</th>\n",
       "      <th>Acer_Pictum</th>\n",
       "      <th>Acer_Platanoids</th>\n",
       "      <th>Acer_Rubrum</th>\n",
       "      <th>Acer_Rufinerve</th>\n",
       "      <th>...</th>\n",
       "      <th>Salix_Fragilis</th>\n",
       "      <th>Salix_Intergra</th>\n",
       "      <th>Sorbus_Aria</th>\n",
       "      <th>Tilia_Oliveri</th>\n",
       "      <th>Tilia_Platyphyllos</th>\n",
       "      <th>Tilia_Tomentosa</th>\n",
       "      <th>Ulmus_Bergmanniana</th>\n",
       "      <th>Viburnum_Tinus</th>\n",
       "      <th>Viburnum_x_Rhytidophylloides</th>\n",
       "      <th>Zelkova_Serrata</th>\n",
       "    </tr>\n",
       "  </thead>\n",
       "  <tbody>\n",
       "    <tr>\n",
       "      <th>589</th>\n",
       "      <td>1576</td>\n",
       "      <td>1.678022e-32</td>\n",
       "      <td>1.574938e-01</td>\n",
       "      <td>3.052691e-81</td>\n",
       "      <td>3.839102e-29</td>\n",
       "      <td>5.951535e-29</td>\n",
       "      <td>1.081191e-81</td>\n",
       "      <td>2.046718e-121</td>\n",
       "      <td>3.795852e-29</td>\n",
       "      <td>1.574869e-01</td>\n",
       "      <td>...</td>\n",
       "      <td>3.756572e-115</td>\n",
       "      <td>5.097332e-74</td>\n",
       "      <td>1.916082e-133</td>\n",
       "      <td>2.174382e-38</td>\n",
       "      <td>1.956985e-49</td>\n",
       "      <td>1.712025e-04</td>\n",
       "      <td>5.488761e-02</td>\n",
       "      <td>1.154157e-79</td>\n",
       "      <td>7.874750e-163</td>\n",
       "      <td>6.344203e-18</td>\n",
       "    </tr>\n",
       "    <tr>\n",
       "      <th>590</th>\n",
       "      <td>1577</td>\n",
       "      <td>5.852780e-19</td>\n",
       "      <td>9.014722e-101</td>\n",
       "      <td>3.282135e-172</td>\n",
       "      <td>2.548416e-13</td>\n",
       "      <td>0.000000e+00</td>\n",
       "      <td>3.760322e-76</td>\n",
       "      <td>1.747866e-88</td>\n",
       "      <td>2.795162e-21</td>\n",
       "      <td>1.666120e-01</td>\n",
       "      <td>...</td>\n",
       "      <td>2.409288e-111</td>\n",
       "      <td>2.067872e-82</td>\n",
       "      <td>4.594498e-61</td>\n",
       "      <td>7.674604e-55</td>\n",
       "      <td>1.666294e-01</td>\n",
       "      <td>1.666294e-01</td>\n",
       "      <td>3.624477e-57</td>\n",
       "      <td>5.677283e-78</td>\n",
       "      <td>4.714038e-136</td>\n",
       "      <td>5.463863e-24</td>\n",
       "    </tr>\n",
       "    <tr>\n",
       "      <th>591</th>\n",
       "      <td>1579</td>\n",
       "      <td>1.246853e-54</td>\n",
       "      <td>2.246856e-127</td>\n",
       "      <td>2.036918e-112</td>\n",
       "      <td>6.354985e-20</td>\n",
       "      <td>0.000000e+00</td>\n",
       "      <td>1.994285e-64</td>\n",
       "      <td>4.838702e-108</td>\n",
       "      <td>1.802098e-80</td>\n",
       "      <td>4.848188e-85</td>\n",
       "      <td>...</td>\n",
       "      <td>3.792925e-203</td>\n",
       "      <td>4.313797e-92</td>\n",
       "      <td>3.349110e-121</td>\n",
       "      <td>5.892847e-74</td>\n",
       "      <td>1.011612e-70</td>\n",
       "      <td>3.730513e-62</td>\n",
       "      <td>1.612125e-138</td>\n",
       "      <td>1.338372e-56</td>\n",
       "      <td>4.210799e-114</td>\n",
       "      <td>7.292528e-57</td>\n",
       "    </tr>\n",
       "    <tr>\n",
       "      <th>592</th>\n",
       "      <td>1580</td>\n",
       "      <td>3.125726e-74</td>\n",
       "      <td>4.690909e-133</td>\n",
       "      <td>7.521916e-71</td>\n",
       "      <td>8.605904e-22</td>\n",
       "      <td>2.771755e-291</td>\n",
       "      <td>2.939929e-60</td>\n",
       "      <td>7.429960e-53</td>\n",
       "      <td>1.855653e-38</td>\n",
       "      <td>1.111413e-46</td>\n",
       "      <td>...</td>\n",
       "      <td>3.764907e-155</td>\n",
       "      <td>5.846074e-47</td>\n",
       "      <td>3.611489e-149</td>\n",
       "      <td>1.151540e-36</td>\n",
       "      <td>7.658719e-59</td>\n",
       "      <td>4.435737e-27</td>\n",
       "      <td>3.435078e-106</td>\n",
       "      <td>4.910586e-32</td>\n",
       "      <td>6.281791e-130</td>\n",
       "      <td>7.850683e-83</td>\n",
       "    </tr>\n",
       "    <tr>\n",
       "      <th>593</th>\n",
       "      <td>1583</td>\n",
       "      <td>7.447301e-97</td>\n",
       "      <td>4.556287e-130</td>\n",
       "      <td>2.431120e-85</td>\n",
       "      <td>1.463458e-27</td>\n",
       "      <td>0.000000e+00</td>\n",
       "      <td>1.415763e-35</td>\n",
       "      <td>8.240679e-85</td>\n",
       "      <td>5.575643e-90</td>\n",
       "      <td>1.203718e-81</td>\n",
       "      <td>...</td>\n",
       "      <td>4.632512e-183</td>\n",
       "      <td>7.447890e-69</td>\n",
       "      <td>1.408725e-163</td>\n",
       "      <td>5.836338e-73</td>\n",
       "      <td>8.453399e-80</td>\n",
       "      <td>4.160309e-50</td>\n",
       "      <td>2.441630e-120</td>\n",
       "      <td>1.707943e-22</td>\n",
       "      <td>4.205281e-147</td>\n",
       "      <td>3.499492e-56</td>\n",
       "    </tr>\n",
       "  </tbody>\n",
       "</table>\n",
       "<p>5 rows × 100 columns</p>\n",
       "</div>"
      ],
      "text/plain": [
       "       id  Acer_Capillipes  Acer_Circinatum      Acer_Mono   Acer_Opalus  \\\n",
       "589  1576     1.678022e-32     1.574938e-01   3.052691e-81  3.839102e-29   \n",
       "590  1577     5.852780e-19    9.014722e-101  3.282135e-172  2.548416e-13   \n",
       "591  1579     1.246853e-54    2.246856e-127  2.036918e-112  6.354985e-20   \n",
       "592  1580     3.125726e-74    4.690909e-133   7.521916e-71  8.605904e-22   \n",
       "593  1583     7.447301e-97    4.556287e-130   2.431120e-85  1.463458e-27   \n",
       "\n",
       "     Acer_Palmatum   Acer_Pictum  Acer_Platanoids   Acer_Rubrum  \\\n",
       "589   5.951535e-29  1.081191e-81    2.046718e-121  3.795852e-29   \n",
       "590   0.000000e+00  3.760322e-76     1.747866e-88  2.795162e-21   \n",
       "591   0.000000e+00  1.994285e-64    4.838702e-108  1.802098e-80   \n",
       "592  2.771755e-291  2.939929e-60     7.429960e-53  1.855653e-38   \n",
       "593   0.000000e+00  1.415763e-35     8.240679e-85  5.575643e-90   \n",
       "\n",
       "     Acer_Rufinerve       ...         Salix_Fragilis  Salix_Intergra  \\\n",
       "589    1.574869e-01       ...          3.756572e-115    5.097332e-74   \n",
       "590    1.666120e-01       ...          2.409288e-111    2.067872e-82   \n",
       "591    4.848188e-85       ...          3.792925e-203    4.313797e-92   \n",
       "592    1.111413e-46       ...          3.764907e-155    5.846074e-47   \n",
       "593    1.203718e-81       ...          4.632512e-183    7.447890e-69   \n",
       "\n",
       "       Sorbus_Aria  Tilia_Oliveri  Tilia_Platyphyllos  Tilia_Tomentosa  \\\n",
       "589  1.916082e-133   2.174382e-38        1.956985e-49     1.712025e-04   \n",
       "590   4.594498e-61   7.674604e-55        1.666294e-01     1.666294e-01   \n",
       "591  3.349110e-121   5.892847e-74        1.011612e-70     3.730513e-62   \n",
       "592  3.611489e-149   1.151540e-36        7.658719e-59     4.435737e-27   \n",
       "593  1.408725e-163   5.836338e-73        8.453399e-80     4.160309e-50   \n",
       "\n",
       "     Ulmus_Bergmanniana  Viburnum_Tinus  Viburnum_x_Rhytidophylloides  \\\n",
       "589        5.488761e-02    1.154157e-79                 7.874750e-163   \n",
       "590        3.624477e-57    5.677283e-78                 4.714038e-136   \n",
       "591       1.612125e-138    1.338372e-56                 4.210799e-114   \n",
       "592       3.435078e-106    4.910586e-32                 6.281791e-130   \n",
       "593       2.441630e-120    1.707943e-22                 4.205281e-147   \n",
       "\n",
       "     Zelkova_Serrata  \n",
       "589     6.344203e-18  \n",
       "590     5.463863e-24  \n",
       "591     7.292528e-57  \n",
       "592     7.850683e-83  \n",
       "593     3.499492e-56  \n",
       "\n",
       "[5 rows x 100 columns]"
      ]
     },
     "execution_count": 177,
     "metadata": {},
     "output_type": "execute_result"
    }
   ],
   "source": [
    "submission[\"id\"] = test_ids\n",
    "submission.tail()"
   ]
  },
  {
   "cell_type": "code",
   "execution_count": 178,
   "metadata": {
    "collapsed": false
   },
   "outputs": [],
   "source": [
    "submission.to_csv('submission.csv')"
   ]
  }
 ],
 "metadata": {
  "anaconda-cloud": {},
  "kernelspec": {
   "display_name": "Python [default]",
   "language": "python",
   "name": "python2"
  },
  "language_info": {
   "codemirror_mode": {
    "name": "ipython",
    "version": 2
   },
   "file_extension": ".py",
   "mimetype": "text/x-python",
   "name": "python",
   "nbconvert_exporter": "python",
   "pygments_lexer": "ipython2",
   "version": "2.7.12"
  }
 },
 "nbformat": 4,
 "nbformat_minor": 1
}
